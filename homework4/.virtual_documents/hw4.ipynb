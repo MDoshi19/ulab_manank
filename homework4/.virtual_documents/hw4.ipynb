





# Your comments here
# NameError: name 'is_in_range' is not defined: This means there is no function/variable with that name. The reason why this occurred is because I copied the test cases from the code and forgot to change the function name. It was fixed by changing the function name.
# SyntaxError: invalid syntaxsentence = word1 + " " word2 + " " + word3 + " " + word4 + " "+ word5. This error means that there is something wrong with the structure of the line. In this case, I forgot a plus sign so I added a plus sign where required.
                           ^
# 








# Your code here
def mathematical_calculations(number1,number2):
    # returns arithmetic results of a variety of functions between 2 numbers
    sum = number1+number2 
    difference = number1-number2
    product = number1*number2
    division = number1/number2
    floordivision = number1//number2
    remainder = number1%number2
    power = number1**number2
    list = [sum, difference, product, division, floordivision, remainder, power]
    return list
a= 5
b=2
operations = mathematical_calculations(a,b)
print(operations)
a= 6
b=1
operations = mathematical_calculations(a,b)
print(operations)
a= 8
b=4
operations = mathematical_calculations(a,b)
print(operations)
a= 10
b= 3
operations = mathematical_calculations(a,b)
print(operations)





# Your thinking process and description here (I'm doing this before the lecture so I have no idea what this is going to be about)
# I mean there isn't much thinking process. I just set each arithmetic calculation to a separate variable, inputted them into the list, and returned that list. Although this function could've been done in 1 line, splitting it over 1 line makes it a bit cleaner imo.
# The return statement is pretty short and the work is done before the return statement. There is also a simple comment which tells us about the function. 
# The variable names are meaningful and not generic as well.





# Your code here
def increment_and_multiply(num_1):
    # This function increments a given number by 5 and then multiplies the number by 3.
    incremented = num_1+5
    multiplied = incremented*3
    return multiplied





# Your thinking process and response here






def check_range(x,low,high):
    # This function checks whether x is within the range of low and high inclusive. Mathematically, this checks if x is within [low, high]
    if(x<=high and x>= low):
        return True
    else:
        return False
print(check_range(5, 1, 10)) # expected True
print(check_range(15, 1, 10)) # expected False
print(check_range(10, 5, 15)) # expected True
print(check_range(10, 0, 100)) # expected True
print(check_range(101, 0, 100)) # expected False





# Your thinking process and description here
# My thinking process was that I could use the "and" comparator to check if it met both requirements of being <= high and >= low all at one. 
# The return statement is short and very straightforward. The comment about the function is also pretty solid since I explained it in words and mathematically





# Your code here
def combine_words(word1, word2, word3, word4, word5):
    # This function combines the five words that are inputted in the order they are provided
    sentence = word1 + " " + word2 + " " + word3 + " " + word4 + " "+ word5 + "!"
    return sentence
a = "Here"
b = "is"
c = "your"
d = "iced"
e = "latte"
my_fav_sentence = combine_words(a, b, c, d, e)
print(my_fav_sentence)








# Your code here
def celsius_to_fahrenheit(celsius):
    multiply = celsius * 9 / 5
    increment = multiply + 32
    return increment

def celsius_to_kelvin(celsius):
    subtract = celsius + 273
    return subtract







# Your code here
def 





# Your code here





# Your comment here
