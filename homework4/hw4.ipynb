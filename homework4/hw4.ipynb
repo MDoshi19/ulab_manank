{
 "cells": [
  {
   "cell_type": "markdown",
   "id": "21a1f0d2-d75c-4443-b816-1d1db3760454",
   "metadata": {},
   "source": [
    "# HW 4 - Functions \n",
    "ULAB - Physics and Astronomy Division \\\n",
    "Due **Wednesday, October 16th, 2024 at 11:59pm** on Gradescope\n",
    "\n",
    "### Once you are done with this homework, make sure to include a screenshot of you pushing this notebook inside of your homework4 branch. Make sure to include this screenshot in your branch before submitting to Gradescope!\n",
    "\n",
    "### If there is no screenshot, then you will recieve a zero! \n",
    "\n",
    "Hello ULAB! For this homework assigmnet you will continue practicing how Python handles variables, data types, functions, comments and operations! We will also touch on comments, naming conventions and hardcoding. The objective for this homework is to practice writing Python code in a structured and readable manner!\n",
    "\n",
    "Since data types were primarily covered during homework 3, we will not spend a lot of time reviewing them in this homework. Refer to Lecture #4 or ask the internet if you forget!"
   ]
  },
  {
   "cell_type": "markdown",
   "id": "8dc7e46b-1e8e-486c-a2e9-d615c687028b",
   "metadata": {},
   "source": [
    "# 1 Good Coding Practices and Debugging\n",
    "Make sure that you don't repeat any variable, function or argument names. Its a good practice to have unique names for each of these throughout an entire notebook or project! \n",
    "\n",
    "In the comment below include at least 3 bugs you ran into during this homework assignment. Give the error message, what the error message means (google it) and how you fixed the problem.  "
   ]
  },
  {
   "cell_type": "code",
   "execution_count": 2,
   "id": "08dabd73-3dbc-4aab-843a-d4b81102835d",
   "metadata": {},
   "outputs": [],
   "source": [
    "# Your comments here\n",
    "# NameError: name 'is_in_range' is not defined: This means there is no function/variable with that name. The reason why this occurred is because I copied the test cases from the code and forgot to change the function name. It was fixed by changing the function name.\n",
    "# SyntaxError: invalid syntaxsentence = word1 + \" \" word2 + \" \" + word3 + \" \" + word4 + \" \"+ word5. This error means that there is something wrong with the structure of the line. In this case, I forgot a plus sign so I added a plus sign where required.\n",
    "#                           ^\n",
    "#     print(\"Fahrenheit: \" + celsius_to_fahrenheit(celsius) + \". Kelvin: \" celsius_to_kelvin(celsius))\n",
    "#          ^\n",
    "# SyntaxError: invalid syntax. Perhaps you forgot a comma? This error means that there is a grammatical mistake, I added commas in between all the function calls and quotes."
   ]
  },
  {
   "cell_type": "markdown",
   "id": "5e1ba0c0-5dd9-44e8-895c-73a36d614949",
   "metadata": {},
   "source": [
    "# 2 Arithmetic Operations\n",
    "**Arithmetic Operations** allow you to perform mathematical calculations inside of Python (just like a calculator).  "
   ]
  },
  {
   "cell_type": "markdown",
   "id": "ef6d2845-2d80-4517-aa70-0e0b2d9e7882",
   "metadata": {},
   "source": [
    "## 2.1 Arithmetic Function\n",
    "Write a function called that takes two numbers (`a` and `b`) as arguments and returns a list or tuple with:\n",
    "\n",
    "- The sum of `a` and `b`\n",
    "- The difference when `b` is subtracted from `a`\n",
    "- The product of `a` and `b`\n",
    "- The division of `a` by `b` (normal division)\n",
    "- The floor division of `a` by `b`\n",
    "- The remainder when `a` is divided by `b`\n",
    "- `a` raised to the power of `b`\n",
    "\n",
    "Don't forget to include a comment describing what the function is doing! Use a different function name than me! And make sure to show multiple test cases (inputs), including the one I gave you (num_1 = 10, num_2 = 3).\n",
    "\n",
    "Example:\n",
    "\n",
    "```\n",
    ">>> def arithmetic_operations(num_1, num_2):\n",
    "...     # Your comment here\n",
    "...     # Your code here\n",
    "...     return # Your code here\n",
    "\n",
    ">>> a = 10\n",
    ">>> b = 3\n",
    ">>> operations = arithmetic_operations(num_1 = a, num_2 = b)\n",
    ">>> print(operations)\n",
    "\n",
    "(13, 7, 30, 3.3333333333333335, 3, 1, 1000) \n",
    "```"
   ]
  },
  {
   "cell_type": "code",
   "execution_count": 9,
   "id": "f8526535-a6a9-46be-83d3-658ad4500762",
   "metadata": {},
   "outputs": [
    {
     "name": "stdout",
     "output_type": "stream",
     "text": [
      "[7, 3, 10, 2.5, 2, 1, 25]\n",
      "[7, 5, 6, 6.0, 6, 0, 6]\n",
      "[12, 4, 32, 2.0, 2, 0, 4096]\n",
      "[13, 7, 30, 3.3333333333333335, 3, 1, 1000]\n"
     ]
    }
   ],
   "source": [
    "# Your code here\n",
    "def mathematical_calculations(number1,number2):\n",
    "    # returns arithmetic results of a variety of functions between 2 numbers\n",
    "    sum = number1+number2 \n",
    "    difference = number1-number2\n",
    "    product = number1*number2\n",
    "    division = number1/number2\n",
    "    floordivision = number1//number2\n",
    "    remainder = number1%number2\n",
    "    power = number1**number2\n",
    "    list = [sum, difference, product, division, floordivision, remainder, power]\n",
    "    return list\n",
    "a= 5\n",
    "b=2\n",
    "operations = mathematical_calculations(a,b)\n",
    "print(operations)\n",
    "a= 6\n",
    "b=1\n",
    "operations = mathematical_calculations(a,b)\n",
    "print(operations)\n",
    "a= 8\n",
    "b=4\n",
    "operations = mathematical_calculations(a,b)\n",
    "print(operations)\n",
    "a= 10\n",
    "b= 3\n",
    "operations = mathematical_calculations(a,b)\n",
    "print(operations)"
   ]
  },
  {
   "cell_type": "markdown",
   "id": "9672e601-ce1a-4f2c-8de0-ce168ef0a12e",
   "metadata": {},
   "source": [
    "In the cell below (as a comment) describe your thinking process and how your function displays good *function writing processes* as described in lecture. Must be at least 2 sentences."
   ]
  },
  {
   "cell_type": "code",
   "execution_count": 10,
   "id": "b7eec35e-3263-4c40-a474-c0dfd924b764",
   "metadata": {},
   "outputs": [],
   "source": [
    "# Your thinking process and description here\n",
    "# I mean there isn't much thinking process. I just set each arithmetic calculation to a separate variable, inputted them into the list, and returned that list. Although this function could've been done in 1 line, splitting it over 1 line makes it a bit cleaner imo.\n",
    "# The return statement is pretty short and the work is done before the return statement. There is also a simple comment which tells us about the function. \n",
    "# The variable names are meaningful and not generic as well."
   ]
  },
  {
   "cell_type": "markdown",
   "id": "49eb4bc2-e109-46c7-8235-c53d269c358f",
   "metadata": {},
   "source": [
    "## 2.2 Increment by Five\n",
    "Write a function with assignment operators, that takes a number and returns the number incremented by 5 and multiplied by 3.\n",
    "\n",
    "Don't forget to include a comment describing what the function is doing! Use a different function name than me! And make sure to show multiple test cases (inputs), including the one I gave you (num_1 = 10).\n",
    "Example:\n",
    "```\n",
    ">>> def increment_and_multiply(num_1, num_2):\n",
    "...     # Your comment here\n",
    "...     # Your code here\n",
    "...     return # Your code here\n",
    "\n",
    ">>> x = 10\n",
    ">>> print(increment_by_5(x))\n",
    "60\n",
    "```"
   ]
  },
  {
   "cell_type": "code",
   "execution_count": 1,
   "id": "7de14ca3-65c2-463f-8345-529603368c0a",
   "metadata": {},
   "outputs": [
    {
     "name": "stdout",
     "output_type": "stream",
     "text": [
      "45\n",
      "30\n",
      "27\n",
      "39\n"
     ]
    }
   ],
   "source": [
    "# Your code here\n",
    "def increase_then_multiply(num_1):\n",
    "    # This function increments a given number by 5 and then multiplies the number by 3.\n",
    "    incremented = num_1+5\n",
    "    multiplied = incremented*3\n",
    "    return multiplied\n",
    "x=10\n",
    "print(increase_then_multiply(x))\n",
    "x=5\n",
    "print(increase_then_multiply(x))\n",
    "x=4\n",
    "print(increase_then_multiply(x))\n",
    "x=8\n",
    "print(increase_then_multiply(x))   "
   ]
  },
  {
   "cell_type": "markdown",
   "id": "05c0bd02-7031-41b4-b598-178b883b9418",
   "metadata": {},
   "source": [
    "In the cell below (as a comment) describe your thinking process and the purpose of assignment operators. Must be at least 2 sentences."
   ]
  },
  {
   "cell_type": "code",
   "execution_count": null,
   "id": "aba9e76c-4f39-4dd9-a533-457ac788b4d7",
   "metadata": {},
   "outputs": [],
   "source": [
    "# Your thinking process and response here\n",
    "# The instructions say that we increment by 5 and multiply by 3, so I did that in that order. \n",
    "# The purpose of assignment operators is to give variables a certain value and also give a variable a data type."
   ]
  },
  {
   "cell_type": "markdown",
   "id": "33b71724-2522-4ce9-8cb3-eb0ed6200d96",
   "metadata": {},
   "source": [
    "## 2.3 Setting a Range\n",
    "Write a function that takes in three arguments (x, low, high) and returns True if x is between low and high (inclusive), otherwise it returns False. Use comparison operator to check the three arguments!\n",
    "\n",
    "Don't forget to include a comment describing what the function is doing! And use a different function name than me!\n",
    "\n",
    "Example:\n",
    "```\n",
    ">>> def is_in_range(x, low, high):\n",
    "...     # Your comment here\n",
    "...     # Your code here\n",
    "...     return # Your code here\n",
    "\n",
    ">>> print(is_in_range(5, 1, 10))\n",
    "\n",
    "True\n",
    "\n",
    ">>> print(is_in_range(15, 1, 10))\n",
    "\n",
    "False\n",
    "```"
   ]
  },
  {
   "cell_type": "code",
   "execution_count": 12,
   "id": "6fccfc23-bb87-4390-9291-7f3269472573",
   "metadata": {},
   "outputs": [
    {
     "name": "stdout",
     "output_type": "stream",
     "text": [
      "True\n",
      "False\n",
      "True\n",
      "True\n",
      "False\n"
     ]
    }
   ],
   "source": [
    "def check_range(x,low,high):\n",
    "    # This function checks whether x is within the range of low and high inclusive. Mathematically, this checks if x is within [low, high]\n",
    "    if(x<=high and x>= low):\n",
    "        return True\n",
    "    else:\n",
    "        return False\n",
    "print(check_range(5, 1, 10)) # expected True\n",
    "print(check_range(15, 1, 10)) # expected False\n",
    "print(check_range(10, 5, 15)) # expected True\n",
    "print(check_range(10, 0, 100)) # expected True\n",
    "print(check_range(101, 0, 100)) # expected False"
   ]
  },
  {
   "cell_type": "markdown",
   "id": "764fe405-5749-4237-bfae-27a616321954",
   "metadata": {},
   "source": [
    "In the cell below (as a comment) describe your thinking process and how your function displays good *function writing processes* as described in lecture. Must be at least 2 sentences."
   ]
  },
  {
   "cell_type": "code",
   "execution_count": 2,
   "id": "9b3c7ec6-8101-449e-b2a0-e2910b441b52",
   "metadata": {},
   "outputs": [],
   "source": [
    "# Your thinking process and description here\n",
    "# My thinking process was that I could use the \"and\" comparator to check if it met both requirements of being <= high and >= low all at one. \n",
    "# The return statement is short and very straightforward. The comment about the function is also pretty solid since I explained it in words and mathematically"
   ]
  },
  {
   "cell_type": "markdown",
   "id": "242ced1e-1ed9-4b7a-ab2e-031daf67c8cb",
   "metadata": {},
   "source": [
    "## 2.4 Adding Strings Together\n",
    "Write a function that takes in at least 5 words and makes a sentence with proper grammer.\n",
    "\n",
    "Example:\n",
    "\n",
    "```\n",
    ">>> def making_sentences(a, b, c, d, e):\n",
    "...     # Your comment here\n",
    "...     # Your code here\n",
    "...     return # Your code here\n",
    "\n",
    ">>> a = \"Here\"\n",
    ">>> b = \"is\"\n",
    ">>> c = \"your\"\n",
    ">>> d = \"iced\"\n",
    ">>> e = \"latte\"\n",
    ">>> my_fav_sentence = making_sentences(a, b, c, d, e)\n",
    ">>> print(my_fav_sentence)\n",
    "\n",
    "'Here is your iced latte!'\n",
    "```"
   ]
  },
  {
   "cell_type": "code",
   "execution_count": 16,
   "id": "12165244-8b1a-4abc-b65d-10547db823d5",
   "metadata": {},
   "outputs": [
    {
     "name": "stdout",
     "output_type": "stream",
     "text": [
      "Here is your iced latte!\n"
     ]
    }
   ],
   "source": [
    "# Your code here\n",
    "def combine_words(word1, word2, word3, word4, word5):\n",
    "    # This function combines the five words that are inputted in the order they are provided\n",
    "    sentence = word1 + \" \" + word2 + \" \" + word3 + \" \" + word4 + \" \"+ word5 + \"!\"\n",
    "    return sentence\n",
    "a = \"Here\"\n",
    "b = \"is\"\n",
    "c = \"your\"\n",
    "d = \"iced\"\n",
    "e = \"latte\"\n",
    "my_fav_sentence = combine_words(a, b, c, d, e)\n",
    "print(my_fav_sentence)"
   ]
  },
  {
   "cell_type": "markdown",
   "id": "75e1ebff-f910-40e3-9f9d-5988da68e107",
   "metadata": {},
   "source": [
    "# 3 Introduction to Scripting\n",
    "The act of **scripting** is glueing different pieces of code together. Let's practice!\n",
    "\n"
   ]
  },
  {
   "cell_type": "markdown",
   "id": "083add03-eaa2-4628-9dca-32f37dc8da9d",
   "metadata": {},
   "source": [
    "## 3.1 Define Multiple Functions\n",
    "Write two different functions:\n",
    "- One that converts celsius to fahrenheit\n",
    "- One that converts celsius to kelvin\n",
    "\n",
    "You will need to google these formulas if you don't know them off the top of your head! Because haha I don't know them."
   ]
  },
  {
   "cell_type": "code",
   "execution_count": 4,
   "id": "569001a8-f62a-4fdc-bebe-ec27f77f2385",
   "metadata": {},
   "outputs": [
    {
     "name": "stdout",
     "output_type": "stream",
     "text": [
      "Fahrenheit:  32.0 . Kelvin:  273\n",
      "Fahrenheit:  50.0 . Kelvin:  283\n",
      "Fahrenheit:  68.0 . Kelvin:  293\n"
     ]
    }
   ],
   "source": [
    "# Your code here\n",
    "def celsius_to_fahrenheit(celsius):\n",
    "    # Converts celsius to Fahrenheit\n",
    "    multiply = celsius * 9 / 5\n",
    "    increment = multiply + 32\n",
    "    return increment\n",
    "\n",
    "def celsius_to_kelvin(celsius):\n",
    "    # Converts celsius to Kelvin\n",
    "    subtract = celsius + 273\n",
    "    return subtract\n",
    "\n",
    "celsius = 0\n",
    "print(\"Fahrenheit: \", celsius_to_fahrenheit(celsius), \". Kelvin: \", celsius_to_kelvin(celsius))\n",
    "celsius = 10\n",
    "print(\"Fahrenheit: \", celsius_to_fahrenheit(celsius), \". Kelvin: \", celsius_to_kelvin(celsius))\n",
    "celsius = 20\n",
    "print(\"Fahrenheit: \", celsius_to_fahrenheit(celsius), \". Kelvin: \", celsius_to_kelvin(celsius))"
   ]
  },
  {
   "cell_type": "markdown",
   "id": "a7dbe056-b57e-4ae8-af3a-a38acf20ac95",
   "metadata": {},
   "source": [
    "## 3.2 Calling Upon Other Functions\n",
    "Write a function that takes the two functions you wrote above and calls on them. Have you function return the values. Print the answer below. \n",
    "\n",
    "Example:\n",
    "\n",
    "```\n",
    ">>> def my_function():\n",
    "...     # Your comment here\n",
    "...     fahrenheit = first_function() # Just an example, your code here\n",
    "...     kelvin = second_function() # Another example, your code here\n",
    "...     return # Your code here\n",
    "\n",
    ">>> print(my_function())\n",
    "```\n",
    "\n",
    "Include screaming snake case syntax if you think it applies to this question. If not, include a comment explaining why not. "
   ]
  },
  {
   "cell_type": "code",
   "execution_count": 9,
   "id": "299f6dd8-7dda-4465-96f7-712e9149e179",
   "metadata": {},
   "outputs": [
    {
     "name": "stdout",
     "output_type": "stream",
     "text": [
      "Fahrenheit: 32.0. Kelvin: 273\n",
      "Fahrenheit: 50.0. Kelvin: 283\n",
      "Fahrenheit: 68.0. Kelvin: 293\n"
     ]
    }
   ],
   "source": [
    "# Your code here\n",
    "def combine_functions(celsius):\n",
    "    fahrenheit = celsius_to_fahrenheit(celsius)\n",
    "    kelvin = celsius_to_kelvin(celsius)\n",
    "    sentence = \"Fahrenheit: \" + str(fahrenheit) + \". Kelvin: \" + str(kelvin)\n",
    "    return sentence\n",
    "\n",
    "print(combine_functions(0))\n",
    "print(combine_functions(10))\n",
    "print(combine_functions(20))"
   ]
  },
  {
   "cell_type": "code",
   "execution_count": null,
   "id": "6152f242-8a63-43e5-9a76-d1eb85bda567",
   "metadata": {},
   "outputs": [],
   "source": [
    "# I don't think screaming snake case syntax applies to this question because none of these values are constant since they all change."
   ]
  },
  {
   "cell_type": "markdown",
   "id": "4f50c562-1890-4fc1-adce-246e2ed77719",
   "metadata": {},
   "source": [
    "# 4 Get Creative\n",
    "Write a function on something that is not covered in this notebook. For example: assignment/comparison operators that you haven't worked with yet, global vs. local variables (like when it would be a good idea to use a global variable), default arguments, or all of the above! But your function definitely doesn't have to include everything we didn't cover in this assignment, picking one thing is perfectly fine. \n",
    "\n",
    "Bonus points if you teach me something new. (No importing packages for this question, if you don't know what that means we will learn in the following weeks!)"
   ]
  },
  {
   "cell_type": "code",
   "execution_count": 2,
   "id": "0c65d553-05b5-4f2f-8312-3e9ff1550753",
   "metadata": {},
   "outputs": [
    {
     "name": "stdout",
     "output_type": "stream",
     "text": [
      "Product of evens:  8 , count of evens:  2\n",
      "Product of evens:  480 , count of evens:  4\n"
     ]
    }
   ],
   "source": [
    "# Your code here\n",
    "def product_of_evens(numbers):\n",
    "    # multiplies only the even numbers in a list together and returns the count of even numbers and the product of even numbers\n",
    "    product = 1\n",
    "    count = 0\n",
    "    for num in numbers:\n",
    "        if num%2 == 0:\n",
    "            product *= num\n",
    "            count +=1 \n",
    "    return product, count\n",
    "\n",
    "list = [1,2,3,4]\n",
    "product, count = product_of_evens(list)\n",
    "print(\"Product of evens: \", product, \", count of evens: \", count)\n",
    "list = [2,4,6,9,10]\n",
    "product, count = product_of_evens(list)\n",
    "print(\"Product of evens: \", product, \", count of evens: \", count)"
   ]
  },
  {
   "cell_type": "markdown",
   "id": "8cf33b19-9bca-484e-8129-d8a4896a1bfa",
   "metadata": {},
   "source": [
    "# 5 Proper Submission\n",
    "To recieve full credit for this assignment make sure you do the following:\n",
    "1) Copy this jupter notebook from the `ulab_2024` repository into **YOUR** local `homework` branch.\n",
    "   \n",
    "3) Follow the tasks. Make sure to run all the cells so that all output is visible.\n",
    "   \n",
    "5) Push this notebook to your remote `homework4` branch. Refer to the lecture slides for more information.\n",
    "      \n",
    "6) **WARNING!! IF YOU DO NOT FOLLOW THIS STEP YOU WILL RECIEVE A ZERO!**\n",
    "   1) Take a screenshot of your command line when you `push` this notebook from your local `homework4` branch to your remote `homework4` branch. Make sure to prove that you are inside a branch besides `main` or `master` by calling `git branch` and make sure to prove that your `homework4` branch only contains the homework4 folder of Jupyter Notebook you copied over from `ulab_2024` (which can be done by calling `ls`). \n",
    "   3)  Include that screenshot in your remote branch when you upload your GitHub branch to Gradescope!\n",
    "  \n",
    "(Optional) Do you have any comments about this homework assigment or the class? Any questions you need answered? Please type them below. "
   ]
  },
  {
   "cell_type": "code",
   "execution_count": 5,
   "id": "fe93d7e1-ab53-49bd-8b50-aba721d0d2d4",
   "metadata": {},
   "outputs": [],
   "source": [
    "# Your comment here\n",
    "# Nope, I'm good!"
   ]
  }
 ],
 "metadata": {
  "kernelspec": {
   "display_name": "Python 3 (ipykernel)",
   "language": "python",
   "name": "python3"
  },
  "language_info": {
   "codemirror_mode": {
    "name": "ipython",
    "version": 3
   },
   "file_extension": ".py",
   "mimetype": "text/x-python",
   "name": "python",
   "nbconvert_exporter": "python",
   "pygments_lexer": "ipython3",
   "version": "3.12.4"
  }
 },
 "nbformat": 4,
 "nbformat_minor": 5
}
